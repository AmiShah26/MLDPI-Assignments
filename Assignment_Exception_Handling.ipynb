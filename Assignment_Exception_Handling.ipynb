{
  "nbformat": 4,
  "nbformat_minor": 0,
  "metadata": {
    "colab": {
      "name": "Assignment Exception Handling.ipynb",
      "provenance": [],
      "collapsed_sections": []
    },
    "kernelspec": {
      "name": "python3",
      "display_name": "Python 3"
    }
  },
  "cells": [
    {
      "cell_type": "markdown",
      "metadata": {
        "id": "3YfZbLZdP8ID"
      },
      "source": [
        "\r\n",
        "# **Assignment Exception Handling**"
      ]
    },
    {
      "cell_type": "markdown",
      "metadata": {
        "id": "1_71rXrvQR9y"
      },
      "source": [
        "## **<u>Task 1</u>**\r\n",
        "**Write a function to compute 5/0 and use try/except to catch the exceptions.**"
      ]
    },
    {
      "cell_type": "code",
      "metadata": {
        "colab": {
          "base_uri": "https://localhost:8080/"
        },
        "id": "ykXtzSbQPxOk",
        "outputId": "b3530682-b23d-4042-9229-3851fe0ae95b"
      },
      "source": [
        "def divide():\r\n",
        "  return 5/0\r\n",
        "\r\n",
        "try:\r\n",
        "  divide()\r\n",
        "\r\n",
        "except ZeroDivisionError as zde:\r\n",
        "  print(zde, \"is not possible\")"
      ],
      "execution_count": 1,
      "outputs": [
        {
          "output_type": "stream",
          "text": [
            "division by zero is not possible\n"
          ],
          "name": "stdout"
        }
      ]
    },
    {
      "cell_type": "markdown",
      "metadata": {
        "id": "IZOxOGFDQrVd"
      },
      "source": [
        "## **<u>Task 2</u>**\r\n",
        "**Implement a Python program to generate all sentences where subject is in  [\"Americans\", \"Indians\"] and verb is in [\"Play\", \"watch\"] and the object is in  [\"Baseball\",\"cricket\"].**\r\n",
        "\r\n",
        "**Hint:** *Subject,Verb and Object should be declared in the program as shown below.*\r\n",
        "\r\n",
        "*subjects=[\"Americans\",\"Indians\"]*\r\n",
        "\r\n",
        "*verbs=[\"play\",\"watch\"]*\r\n",
        "\r\n",
        "*objects=[\"Baseball\",\"Cricket\"]*\r\n",
        "\r\n",
        "**Output should come as follow:**\r\n",
        "\r\n",
        "*Americans play Baseball.*\r\n",
        "\r\n",
        "*Americans play Cricket.*\r\n",
        "\r\n",
        "*Americans watch Baseball.*\r\n",
        "\r\n",
        "*Americans watch Cricket.*\r\n",
        "\r\n",
        "*Indians play Baseball.*\r\n",
        "\r\n",
        "*Indians play Cricket.*\r\n",
        "\r\n",
        "*Indians watch Baseball.*\r\n",
        "\r\n",
        "*Indians watch Cricket.*"
      ]
    },
    {
      "cell_type": "code",
      "metadata": {
        "colab": {
          "base_uri": "https://localhost:8080/"
        },
        "id": "tZCFZ_Q8R8rb",
        "outputId": "74da44e7-62f2-470c-ade7-73465ce3721c"
      },
      "source": [
        "subjects=[\"Americans\",\"Indians\"]\r\n",
        "verbs=[\"play\",\"watch\"]\r\n",
        "objects=[\"Baseball\",\"Cricket\"]\r\n",
        "\r\n",
        "for subject in subjects:\r\n",
        "  for verb in verbs:\r\n",
        "    for obj in objects:\r\n",
        "      print(subject,verb,obj+\".\")"
      ],
      "execution_count": 2,
      "outputs": [
        {
          "output_type": "stream",
          "text": [
            "Americans play Baseball.\n",
            "Americans play Cricket.\n",
            "Americans watch Baseball.\n",
            "Americans watch Cricket.\n",
            "Indians play Baseball.\n",
            "Indians play Cricket.\n",
            "Indians watch Baseball.\n",
            "Indians watch Cricket.\n"
          ],
          "name": "stdout"
        }
      ]
    }
  ]
}