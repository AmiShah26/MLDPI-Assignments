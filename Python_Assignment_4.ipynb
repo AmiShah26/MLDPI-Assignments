{
  "nbformat": 4,
  "nbformat_minor": 0,
  "metadata": {
    "colab": {
      "name": "Python Assignment 4.ipynb",
      "provenance": [],
      "collapsed_sections": []
    },
    "kernelspec": {
      "name": "python3",
      "display_name": "Python 3"
    }
  },
  "cells": [
    {
      "cell_type": "markdown",
      "metadata": {
        "id": "59UEHK9XFQnq"
      },
      "source": [
        "\n",
        "# **Python Assignment 4**"
      ]
    },
    {
      "cell_type": "markdown",
      "metadata": {
        "id": "-fk6scsLFSgF"
      },
      "source": [
        "## **<u>Task 1.1</u>**\n",
        "**Write a Python Program(with class concepts) to find the area of the triangle using the below formula.**\n",
        "\n",
        "$area = (s*(s-a)*(s-b)*(s-c))**0.5$\n",
        "\n",
        "**Function to take the length of the sides of triangle from user should be defined in the parent class and function to calculate the area should be defined in subclass.**"
      ]
    },
    {
      "cell_type": "code",
      "metadata": {
        "id": "f3XS9Y-1E8qA",
        "colab": {
          "base_uri": "https://localhost:8080/"
        },
        "outputId": "d7b7ef8c-ca2e-453d-cf29-5d2ca7719b8a"
      },
      "source": [
        "class Triangle:\n",
        "  def __init__(self,a,b,c):\n",
        "    self.a = a\n",
        "    self.b = b\n",
        "    self.c = c\n",
        "  \n",
        "class Area(Triangle):\n",
        "  def __init__(self,a,b,c):\n",
        "    super().__init__(a,b,c)\n",
        "  \n",
        "  def calculate_area(self):\n",
        "    s = (self.a + self.b + self.c) / 2\n",
        "    area = (s * (s-self.a) * (s-self.b) * (s-self.c)) ** 0.5\n",
        "    return area\n",
        "\n",
        "a = float(input(\"Enter length of side a: \"))\n",
        "b = float(input(\"Enter length of side b: \"))\n",
        "c = float(input(\"Enter length of side c: \"))\n",
        "\n",
        "area = Area(a,b,c)\n",
        "print(\"Area of Triangle = \",area.calculate_area())\n"
      ],
      "execution_count": 1,
      "outputs": [
        {
          "output_type": "stream",
          "text": [
            "Enter length of side a: 3.2\n",
            "Enter length of side b: 2.1\n",
            "Enter length of side c: 1.3\n",
            "Area of Triangle =  0.88994381845148\n"
          ],
          "name": "stdout"
        }
      ]
    },
    {
      "cell_type": "markdown",
      "metadata": {
        "id": "c7eYCbzsGdVc"
      },
      "source": [
        "## **<u>Task 1.2</u>**\n",
        "**Write a function filter_long_words() that takes a list of words and an integer n and returns the list of words that are longer than n.**"
      ]
    },
    {
      "cell_type": "code",
      "metadata": {
        "id": "45I8JweDGdyr",
        "colab": {
          "base_uri": "https://localhost:8080/"
        },
        "outputId": "06261be8-86dc-48c5-b0d6-3800e7e7ba07"
      },
      "source": [
        "def filter_long_words(sequence, n):\n",
        "  return [word for word in sequence if len(word) > n]\n",
        "\n",
        "sequence=[]\n",
        "list_len = int(input(\"How many words you want to enter in list? \"))\n",
        "print(\"Enter list items: \")\n",
        "for i in range(0, list_len):\n",
        "  word = input()\n",
        "  sequence.append(word)\n",
        "n = int(input(\"Enter the number to filter long words: \"))\n",
        "\n",
        "filtered_words = filter_long_words(sequence, n)\n",
        "print(\"List after filtering: \", filtered_words)"
      ],
      "execution_count": 2,
      "outputs": [
        {
          "output_type": "stream",
          "text": [
            "How many words you want to enter in list? 4\n",
            "Enter list items: \n",
            "Ami\n",
            "Trushit\n",
            "Jainam\n",
            "Shah\n",
            "Enter the number to filter long words: 3\n",
            "List after filtering:  ['Trushit', 'Jainam', 'Shah']\n"
          ],
          "name": "stdout"
        }
      ]
    },
    {
      "cell_type": "markdown",
      "metadata": {
        "id": "1ZExrTa6Gpf3"
      },
      "source": [
        "## **<u>Task 2.1</u>**\n",
        "**Write a Python program using function concept that maps list of words into a list of integers representing the lengths of the corresponding words.**\n",
        "\n",
        "**Hint:** *If a list [ab,cde,erty] is passed on to the python function output should come as [2,3,4] Here 2,3 and 4 are the lengths of the words in the list.*"
      ]
    },
    {
      "cell_type": "code",
      "metadata": {
        "id": "yA65Zk-7HCeS",
        "colab": {
          "base_uri": "https://localhost:8080/"
        },
        "outputId": "a803f0b3-d26a-466b-80bf-456e9c3531d8"
      },
      "source": [
        "def len_words(word): \n",
        "    return len(word)\n",
        "list_of_words = [\"Ami\", \"Shah\", \"Gujarat\"]\n",
        "result = map(len_words, list_of_words) \n",
        "print(\"Actual list: \",list_of_words)\n",
        "print(\"Output: \", list(result))"
      ],
      "execution_count": 3,
      "outputs": [
        {
          "output_type": "stream",
          "text": [
            "Actual list:  ['Ami', 'Shah', 'Gujarat']\n",
            "Output:  [3, 4, 7]\n"
          ],
          "name": "stdout"
        }
      ]
    },
    {
      "cell_type": "markdown",
      "metadata": {
        "id": "HJ1GtbQVHC7r"
      },
      "source": [
        "## **<u>Task 2.2</u>**\n",
        "**Write a Python function which takes a character (i.e. a string of length 1) and returns True if it is a vowel, False otherwise.**"
      ]
    },
    {
      "cell_type": "code",
      "metadata": {
        "id": "N1IA6bHlHQJt",
        "colab": {
          "base_uri": "https://localhost:8080/"
        },
        "outputId": "9b3abd5f-2df3-4057-9a35-644e4271a3ad"
      },
      "source": [
        "def is_vowel(character):\n",
        "  vowels = ['a', 'e', 'i', 'o', 'u', 'A', 'E', 'I', 'O', 'U']\n",
        "  return True if character in vowels else False\n",
        "\n",
        "char = input(\"Enter character: \")\n",
        "if len(char) >1:\n",
        "    print(\"Single character input is necessary\")\n",
        "else:\n",
        "    vowel_or_not=is_vowel(char)\n",
        "    print(\"Entered character is vowel\") if vowel_or_not == True else print(\"Entered Character is not vowel\")"
      ],
      "execution_count": 4,
      "outputs": [
        {
          "output_type": "stream",
          "text": [
            "Enter character: I\n",
            "Entered character is vowel\n"
          ],
          "name": "stdout"
        }
      ]
    }
  ]
}