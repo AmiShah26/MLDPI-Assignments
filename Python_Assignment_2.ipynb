{
  "nbformat": 4,
  "nbformat_minor": 0,
  "metadata": {
    "colab": {
      "name": "Python Assignment 2.ipynb",
      "provenance": [],
      "collapsed_sections": []
    },
    "kernelspec": {
      "name": "python3",
      "display_name": "Python 3"
    }
  },
  "cells": [
    {
      "cell_type": "markdown",
      "metadata": {
        "id": "YN1Hw1SEwaOs"
      },
      "source": [
        "\n",
        "# **Python Assignment 2**"
      ]
    },
    {
      "cell_type": "markdown",
      "metadata": {
        "id": "k9flpDnEkmZO"
      },
      "source": [
        "## **<u>Task 1</u>**\n",
        "**Create the below pattern using nested for loop in Python.**\n",
        "```\n",
        "*\n",
        "**\n",
        "***\n",
        "****\n",
        "*****\n",
        "****\n",
        "***\n",
        "**\n",
        "*\n",
        "```"
      ]
    },
    {
      "cell_type": "code",
      "metadata": {
        "colab": {
          "base_uri": "https://localhost:8080/"
        },
        "id": "zpaBAsRdkjLz",
        "outputId": "733b5ea8-3b8b-44a1-c8e4-154c0d9a01ac"
      },
      "source": [
        "for i in range(5):\n",
        "  for j in range(i+1):\n",
        "    print('*', end=\" \")\n",
        "  print(\" \")\n",
        "for i in range(5,0,-1):\n",
        "  for j in range(i-1):\n",
        "    print('*', end=\" \")\n",
        "  print(\" \")"
      ],
      "execution_count": 1,
      "outputs": [
        {
          "output_type": "stream",
          "text": [
            "*  \n",
            "* *  \n",
            "* * *  \n",
            "* * * *  \n",
            "* * * * *  \n",
            "* * * *  \n",
            "* * *  \n",
            "* *  \n",
            "*  \n",
            " \n"
          ],
          "name": "stdout"
        }
      ]
    },
    {
      "cell_type": "markdown",
      "metadata": {
        "id": "yeR9IDrdknBu"
      },
      "source": [
        "## **<u>Task 2</u>**\n",
        "**Write a Python program to reverse a word after accepting the input from the user.**"
      ]
    },
    {
      "cell_type": "code",
      "metadata": {
        "colab": {
          "base_uri": "https://localhost:8080/"
        },
        "id": "nUtLpMXJknov",
        "outputId": "7a6d69c9-699f-4e53-9daa-05785f509b7e"
      },
      "source": [
        "word = input(\"Enter Word: \")\n",
        "print(\"Reverse word using slicing index:\", word[::-1])\n",
        "print(\"Reverse word using for loop:\", end=\" \")\n",
        "\n",
        "for i in range(len(word) - 1, -1, -1):\n",
        "  print(word[i], end=\"\")"
      ],
      "execution_count": 2,
      "outputs": [
        {
          "output_type": "stream",
          "text": [
            "Enter Word: Ami\n",
            "Reverse word using slicing index: imA\n",
            "Reverse word using for loop: imA"
          ],
          "name": "stdout"
        }
      ]
    }
  ]
}
