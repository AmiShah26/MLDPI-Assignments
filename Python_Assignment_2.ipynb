{
  "nbformat": 4,
  "nbformat_minor": 0,
  "metadata": {
    "colab": {
      "name": "Python Assignment 2.ipynb",
      "provenance": [],
      "collapsed_sections": [
        "k9flpDnEkmZO"
      ]
    },
    "kernelspec": {
      "name": "python3",
      "display_name": "Python 3"
    }
  },
  "cells": [
    {
      "cell_type": "markdown",
      "metadata": {
        "id": "k9flpDnEkmZO"
      },
      "source": [
        "# **<u>Task 1</u>**\n",
        "**Create the below pattern using nested for loop in Python.**\n",
        "\n",
        "\\*\n",
        "\n",
        "\\* *\n",
        "\n",
        "\\* * *\n",
        "\n",
        "\\* * * *\n",
        "\n",
        "\\* * * * *\n",
        "\n",
        "\\* * * *\n",
        "\n",
        "\\* * *\n",
        "\n",
        "\\* *\n",
        "\n",
        "\\*\n",
        "\n"
      ]
    },
    {
      "cell_type": "code",
      "metadata": {
        "colab": {
          "base_uri": "https://localhost:8080/"
        },
        "id": "zpaBAsRdkjLz",
        "outputId": "908829db-4475-4671-da5b-20ed5da20766"
      },
      "source": [
        "for i in range(5):\n",
        "  for j in range(i+1):\n",
        "    print('*', end=\" \")\n",
        "  print(\" \")\n",
        "for i in range(5,0,-1):\n",
        "  for j in range(i-1):\n",
        "    print('*', end=\" \")\n",
        "  print(\" \")"
      ],
      "execution_count": 1,
      "outputs": [
        {
          "output_type": "stream",
          "text": [
            "*  \n",
            "* *  \n",
            "* * *  \n",
            "* * * *  \n",
            "* * * * *  \n",
            "* * * *  \n",
            "* * *  \n",
            "* *  \n",
            "*  \n",
            " \n"
          ],
          "name": "stdout"
        }
      ]
    },
    {
      "cell_type": "markdown",
      "metadata": {
        "id": "yeR9IDrdknBu"
      },
      "source": [
        "# **<u>Task 2</u>**\n",
        "**Write a Python program to reverse a word after accepting the input from the user.**"
      ]
    },
    {
      "cell_type": "code",
      "metadata": {
        "colab": {
          "base_uri": "https://localhost:8080/"
        },
        "id": "nUtLpMXJknov",
        "outputId": "9ace3469-7040-4f1d-f96a-64fda3c085c5"
      },
      "source": [
        "word = input(\"Enter Word: \")\n",
        "print(\"Reverse word using slicing index:\", word[::-1])\n",
        "print(\"Reverse word using for loop:\", end=\" \")\n",
        "\n",
        "for i in range(len(word) - 1, -1, -1):\n",
        "  print(word[i], end=\"\")"
      ],
      "execution_count": 2,
      "outputs": [
        {
          "output_type": "stream",
          "text": [
            "Enter Word: Ami\n",
            "Reverse word using slicing index: imA\n",
            "Reverse word using for loop: imA"
          ],
          "name": "stdout"
        }
      ]
    }
  ]
}