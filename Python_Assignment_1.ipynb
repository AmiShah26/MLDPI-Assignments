{
  "nbformat": 4,
  "nbformat_minor": 0,
  "metadata": {
    "colab": {
      "name": "Python Assignment 1.ipynb",
      "provenance": [],
      "collapsed_sections": []
    },
    "kernelspec": {
      "name": "python3",
      "display_name": "Python 3"
    }
  },
  "cells": [
    {
      "cell_type": "markdown",
      "metadata": {
        "id": "R7Ve0SjgNhTx"
      },
      "source": [
        "# **<u>Task 1</u>**\n",
        "**Write a program which will find all such numbers which are divisible by 7 but are not a multiple of 5, between 2000 and 3200 (both included). The numbers obtained should be printed in a comma-separated sequence on a single line.**"
      ]
    },
    {
      "cell_type": "code",
      "metadata": {
        "colab": {
          "base_uri": "https://localhost:8080/"
        },
        "id": "jXWyS9pjNhLJ",
        "outputId": "ecbe99fc-87cc-4a72-ada0-85f1922636ee"
      },
      "source": [
        "n1, n2 = 2000, 3200\n",
        "seq_list=[]\n",
        "for i in range(n1,n2+1,1):\n",
        "  if i%7==0:\n",
        "    if i%10==0 or i%10==5:\n",
        "      pass\n",
        "    else:\n",
        "      seq_list.append(i)\n",
        "print(\"numbers divisble by 7 but not multiple of 5 (between 2000 & 3200):\")\n",
        "print(*seq_list, sep=\", \")"
      ],
      "execution_count": 2,
      "outputs": [
        {
          "output_type": "stream",
          "text": [
            "numbers divisble by 7 but not multiple of 5 (between 2000 & 3200):\n",
            "2002, 2009, 2016, 2023, 2037, 2044, 2051, 2058, 2072, 2079, 2086, 2093, 2107, 2114, 2121, 2128, 2142, 2149, 2156, 2163, 2177, 2184, 2191, 2198, 2212, 2219, 2226, 2233, 2247, 2254, 2261, 2268, 2282, 2289, 2296, 2303, 2317, 2324, 2331, 2338, 2352, 2359, 2366, 2373, 2387, 2394, 2401, 2408, 2422, 2429, 2436, 2443, 2457, 2464, 2471, 2478, 2492, 2499, 2506, 2513, 2527, 2534, 2541, 2548, 2562, 2569, 2576, 2583, 2597, 2604, 2611, 2618, 2632, 2639, 2646, 2653, 2667, 2674, 2681, 2688, 2702, 2709, 2716, 2723, 2737, 2744, 2751, 2758, 2772, 2779, 2786, 2793, 2807, 2814, 2821, 2828, 2842, 2849, 2856, 2863, 2877, 2884, 2891, 2898, 2912, 2919, 2926, 2933, 2947, 2954, 2961, 2968, 2982, 2989, 2996, 3003, 3017, 3024, 3031, 3038, 3052, 3059, 3066, 3073, 3087, 3094, 3101, 3108, 3122, 3129, 3136, 3143, 3157, 3164, 3171, 3178, 3192, 3199\n"
          ],
          "name": "stdout"
        }
      ]
    },
    {
      "cell_type": "markdown",
      "metadata": {
        "id": "2ZJtXAdBNg4_"
      },
      "source": [
        "# **<u>Task 2</u>**\n",
        "**Write a Python program to accept the user's first and last name and then getting them printed in the the reverse order with a space between first name and last name.**"
      ]
    },
    {
      "cell_type": "code",
      "metadata": {
        "colab": {
          "base_uri": "https://localhost:8080/"
        },
        "id": "CL3Z720LNgZQ",
        "outputId": "61d7e0ba-8882-4c82-ae67-d15d17d2fab7"
      },
      "source": [
        "f_name = input(\"Enter First Name: \")\n",
        "l_name = input(\"Enter Last Name: \")\n",
        "\n",
        "print(\"Name in reverse order: {} {}\".format(f_name[::-1],l_name[::-1]))"
      ],
      "execution_count": 3,
      "outputs": [
        {
          "output_type": "stream",
          "text": [
            "Enter First Name: Ami\n",
            "Enter Last Name: Shah\n",
            "Name in reverse order: imA hahS\n"
          ],
          "name": "stdout"
        }
      ]
    },
    {
      "cell_type": "markdown",
      "metadata": {
        "id": "JVY-TKj-LQ-V"
      },
      "source": [
        "# **<u>Task 3</u>**\n",
        "**Write a Python program to find the volume of a sphere with diameter 12 cm.**\n",
        "\n",
        "**Formula: $V=4/3 * π * r^3$**\n",
        "\n",
        "\n"
      ]
    },
    {
      "cell_type": "code",
      "metadata": {
        "id": "MpGzM-VdgHwV",
        "colab": {
          "base_uri": "https://localhost:8080/"
        },
        "outputId": "9bb263e5-8a4e-4b9d-dcb5-7c01c71609d8"
      },
      "source": [
        "diameter = 12\n",
        "radius = diameter / 2\n",
        "pi = 3.1416\n",
        "\n",
        "volume = (4/3) * ((pi) * pow(radius,3))\n",
        "\n",
        "print(\"Volume of a sphere with {}cm diameter = {}\".format(diameter, volume))"
      ],
      "execution_count": 4,
      "outputs": [
        {
          "output_type": "stream",
          "text": [
            "Volume of a sphere with 12cm diameter = 904.7808\n"
          ],
          "name": "stdout"
        }
      ]
    }
  ]
}