{
  "nbformat": 4,
  "nbformat_minor": 0,
  "metadata": {
    "colab": {
      "name": "numpy assignment.ipynb",
      "provenance": [],
      "collapsed_sections": []
    },
    "kernelspec": {
      "name": "python3",
      "display_name": "Python 3"
    }
  },
  "cells": [
    {
      "cell_type": "markdown",
      "metadata": {
        "id": "Rvr5GN9tFFu_"
      },
      "source": [
        "# **Numpy Assignment**"
      ]
    },
    {
      "cell_type": "markdown",
      "metadata": {
        "id": "HxmjggX8FZCe"
      },
      "source": [
        "**Write a function so that the columns of the output matrix are powers of the input vector.**\r\n",
        "\r\n",
        "**The order of the powers is determined by the increasing boolean argument. Specifically, when increasing is False, the i-th output column is the input vector raised element-wise to the power of N - i - 1.**\r\n",
        "\r\n",
        "**Hint:** *Such a matrix with a geometric progression in each row is named for Alexandre-Theophile Vandermonde.*"
      ]
    },
    {
      "cell_type": "code",
      "metadata": {
        "id": "x0eFwtHcFCXa",
        "colab": {
          "base_uri": "https://localhost:8080/"
        },
        "outputId": "15b183c9-a0b0-42e0-e3bb-877173f24eda"
      },
      "source": [
        "import numpy as np\r\n",
        "\r\n",
        "def alexaxndreTheophile(inputVector, n, increasing):\r\n",
        "  if increasing:\r\n",
        "    outMatrix = np.matrix([x**i for x in inputVector for i in range(n)]).reshape(inputVector.size, n)\r\n",
        "  else:\r\n",
        "    outMatrix = np.matrix([x**(n-i-1) for x in inputVector for i in range(n)]).reshape(inputVector.size, n)\r\n",
        "  return outMatrix\r\n",
        "\r\n",
        "inputVector = np.array([1,2,3,4,5])\r\n",
        "\r\n",
        "outMatrix = alexaxndreTheophile(inputVector, inputVector.size, increasing = True)\r\n",
        "print(\"When Increasing = True: \\n\",outMatrix)\r\n",
        "\r\n",
        "outMatrix = alexaxndreTheophile(inputVector, inputVector.size, increasing = False)\r\n",
        "print(\"\\nWhen Increasing = False: \\n\",outMatrix)"
      ],
      "execution_count": 1,
      "outputs": [
        {
          "output_type": "stream",
          "text": [
            "When Increasing = True: \n",
            " [[  1   1   1   1   1]\n",
            " [  1   2   4   8  16]\n",
            " [  1   3   9  27  81]\n",
            " [  1   4  16  64 256]\n",
            " [  1   5  25 125 625]]\n",
            "\n",
            "When Increasing = False: \n",
            " [[  1   1   1   1   1]\n",
            " [ 16   8   4   2   1]\n",
            " [ 81  27   9   3   1]\n",
            " [256  64  16   4   1]\n",
            " [625 125  25   5   1]]\n"
          ],
          "name": "stdout"
        }
      ]
    },
    {
      "cell_type": "markdown",
      "metadata": {
        "id": "lk57x52RFGfI"
      },
      "source": [
        "## <u>**Problem Statement**</u>\r\n",
        "**Given a sequence of n values x1, x2, ..., xn and a window size k>0, the k-th moving average of the given sequence is defined as follows:**\r\n",
        "\r\n",
        "**The moving average sequence has n-k+1 elements as shown below.**\r\n",
        "\r\n",
        "**The moving averages with k=4 of a ten-value sequence (n=10) is shown below:**\r\n",
        "\r\n",
        "input | 10  20 30  40  50  60  70  80 90  100\r\n",
        "--- | --- \r\n",
        "y1 | 25 = (10+20+30+40)/4\r\n",
        "y2 | 35 = (20+30+40+50)/4\r\n",
        "y3 | 45 = (30+40+50+60)/4\r\n",
        "y4 | 55 = (40+50+60+70)/4\r\n",
        "y5 | 65 = (50+60+70+80)/4\r\n",
        "y6 | 75 = (60+70+80+90)/4\r\n",
        "y7 | 85 = (70+80+90+100)/4\r\n",
        "\r\n",
        "Thus, the moving average sequence has n-k+1=10-4+1=7 values."
      ]
    },
    {
      "cell_type": "markdown",
      "metadata": {
        "id": "3S3ceH1BpTKM"
      },
      "source": [
        "### **Question:**\r\n",
        "\r\n",
        "*Write a function to find moving average in an array over a window:*\r\n",
        "\r\n",
        "*Test it over [3, 5, 7, 2, 8, 10, 11, 65, 72, 81, 99, 100, 150] and window of 3.*"
      ]
    },
    {
      "cell_type": "code",
      "metadata": {
        "colab": {
          "base_uri": "https://localhost:8080/"
        },
        "id": "cRpV64AvDZME",
        "outputId": "3f705ae4-91df-487f-91e0-90264709d4cb"
      },
      "source": [
        "def movingAverage(inputVector, windowLength):\r\n",
        "  c = 1\r\n",
        "  movingAvg = np.convolve(inputVector, np.ones(windowLength), 'valid') / windowLength\r\n",
        "  for i in movingAvg:\r\n",
        "    print(\"y{0} = {1:.2f}\".format(c, i))\r\n",
        "    c += 1\r\n",
        "\r\n",
        "inputVector = np.array([3, 5, 7, 2, 8, 10, 11, 65, 72, 81, 99, 100, 150])\r\n",
        "windowLength = 3\r\n",
        "\r\n",
        "movingAverage(inputVector, windowLength)"
      ],
      "execution_count": 2,
      "outputs": [
        {
          "output_type": "stream",
          "text": [
            "y1 = 5.00\n",
            "y2 = 4.67\n",
            "y3 = 5.67\n",
            "y4 = 6.67\n",
            "y5 = 9.67\n",
            "y6 = 28.67\n",
            "y7 = 49.33\n",
            "y8 = 72.67\n",
            "y9 = 84.00\n",
            "y10 = 93.33\n",
            "y11 = 116.33\n"
          ],
          "name": "stdout"
        }
      ]
    }
  ]
}