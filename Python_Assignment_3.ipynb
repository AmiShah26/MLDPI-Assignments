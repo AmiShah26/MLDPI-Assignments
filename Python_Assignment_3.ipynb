{
  "nbformat": 4,
  "nbformat_minor": 0,
  "metadata": {
    "colab": {
      "name": "Python Assignment 3.ipynb",
      "provenance": [],
      "collapsed_sections": []
    },
    "kernelspec": {
      "name": "python3",
      "display_name": "Python 3"
    }
  },
  "cells": [
    {
      "cell_type": "markdown",
      "metadata": {
        "id": "6D49LYdlBsok"
      },
      "source": [
        "\n",
        "# **Python Assignment 3**"
      ]
    },
    {
      "cell_type": "markdown",
      "metadata": {
        "id": "X8W9JXLQCRZd"
      },
      "source": [
        "## **<u>Task 1.1</u>**\n",
        "**Write a Python Program to implement your own myreduce() function which works exactly like Python's built-in function reduce().**"
      ]
    },
    {
      "cell_type": "code",
      "metadata": {
        "id": "cNF8VqhCBq7G",
        "colab": {
          "base_uri": "https://localhost:8080/"
        },
        "outputId": "4c146dc5-43b4-412c-e69a-5a1fd79bd193"
      },
      "source": [
        "from functools import reduce\n",
        "def myreduce(func,sequence):\n",
        "  a = sequence[0]\n",
        "  for i in range(1,len(sequence)):\n",
        "    b = sequence[i]\n",
        "    a = func(a,b)\n",
        "  return a\n",
        "\n",
        "def multiply(a,b):\n",
        "  return a*b\n",
        "\n",
        "sequence = [1,5,3,7,6]\n",
        "print(\"Answer using built in reduce function: \", reduce(multiply, sequence))\n",
        "print(\"Answer using myreduce function: \", myreduce(multiply, sequence))"
      ],
      "execution_count": null,
      "outputs": [
        {
          "output_type": "stream",
          "text": [
            "Answer using built in reduce function:  630\n",
            "Answer using myreduce function:  630\n"
          ],
          "name": "stdout"
        }
      ]
    },
    {
      "cell_type": "markdown",
      "metadata": {
        "id": "eopwDm0rCeA-"
      },
      "source": [
        "## **<u>Task 1.2</u>**\n",
        "**Write a Python program to implement your own myfilter() function which works exactly like Python's built-in function filter().**"
      ]
    },
    {
      "cell_type": "code",
      "metadata": {
        "id": "ICUZSviaC_mj",
        "colab": {
          "base_uri": "https://localhost:8080/"
        },
        "outputId": "bd61cad9-8a43-48ba-c904-c8b0e548e88e"
      },
      "source": [
        "def myfilter(func, sequence):\n",
        "  a = []\n",
        "  for i in sequence:\n",
        "    f = func(i)\n",
        "    if f==True:\n",
        "      a.append(i)\n",
        "  return a\n",
        "\n",
        "def is_multiple_10(number):\n",
        "  return True if number%10 == 0 else False\n",
        "\n",
        "sequence = list(range(1,101))\n",
        "print(\"Answer using built in filter function: \", list(filter(is_multiple_10, sequence)))\n",
        "print(\"Answer using myfilter function: \", myfilter(is_multiple_10, sequence))"
      ],
      "execution_count": null,
      "outputs": [
        {
          "output_type": "stream",
          "text": [
            "Answer using built in filter function:  [10, 20, 30, 40, 50, 60, 70, 80, 90, 100]\n",
            "Answer using myfilter function:  [10, 20, 30, 40, 50, 60, 70, 80, 90, 100]\n"
          ],
          "name": "stdout"
        }
      ]
    },
    {
      "cell_type": "markdown",
      "metadata": {
        "id": "RtUdvHcvC_5X"
      },
      "source": [
        "## **<u>Task 2</u>**\n",
        "**Implement List comprehensions to produce the following lists.**\n",
        "\n",
        "**['x', 'xx', 'xxx', 'xxxx', 'y', 'yy', 'yyy', 'yyyy', 'z', 'zz', 'zzz', 'zzzz']**\n",
        "\n",
        "**['x', 'y', 'z', 'xx', 'yy', 'zz', 'xxx', 'yyy', 'zzz', 'xxxx', 'yyyy', 'zzzz']**\n",
        "\n",
        "**[[2], [3], [4], [3], [4], [5], [4], [5], [6]]**\n",
        "\n",
        "**[[2, 3, 4, 5], [3, 4, 5, 6], [4, 5, 6, 7], [5, 6, 7, 8]]**\n",
        "\n",
        "**[(1,1), (2,1), (3,1), (1,2), (2,2), (3,2), (1,3), (2,3), (3,3)]**"
      ]
    },
    {
      "cell_type": "code",
      "metadata": {
        "id": "Lrx_FGg7E1bQ",
        "colab": {
          "base_uri": "https://localhost:8080/"
        },
        "outputId": "0407a511-c3bd-4fa0-f5d4-07c4357d69cb"
      },
      "source": [
        "print([ch*i for ch in 'xyz' for i in range(1,5)])\n",
        "print([l*i for i in range(1,5) for l in [ch for ch in 'xyz']])\n",
        "print([[x+y] for x in range(2,5) for y in range(3)])\n",
        "print([[x+i for i in range(4)] for x in range(2,6)])\n",
        "print([(x,i) for i in range(1,4) for x in range(1,4)])"
      ],
      "execution_count": null,
      "outputs": [
        {
          "output_type": "stream",
          "text": [
            "['x', 'xx', 'xxx', 'xxxx', 'y', 'yy', 'yyy', 'yyyy', 'z', 'zz', 'zzz', 'zzzz']\n",
            "['x', 'y', 'z', 'xx', 'yy', 'zz', 'xxx', 'yyy', 'zzz', 'xxxx', 'yyyy', 'zzzz']\n",
            "[[2], [3], [4], [3], [4], [5], [4], [5], [6]]\n",
            "[[2, 3, 4, 5], [3, 4, 5, 6], [4, 5, 6, 7], [5, 6, 7, 8]]\n",
            "[(1, 1), (2, 1), (3, 1), (1, 2), (2, 2), (3, 2), (1, 3), (2, 3), (3, 3)]\n"
          ],
          "name": "stdout"
        }
      ]
    }
  ]
}